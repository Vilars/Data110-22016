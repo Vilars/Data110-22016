{
  "nbformat": 4,
  "nbformat_minor": 0,
  "metadata": {
    "colab": {
      "private_outputs": true,
      "provenance": [],
      "authorship_tag": "ABX9TyPr1cFgcBRMthbGh9+8cmwa",
      "include_colab_link": true
    },
    "kernelspec": {
      "name": "python3",
      "display_name": "Python 3"
    },
    "language_info": {
      "name": "python"
    }
  },
  "cells": [
    {
      "cell_type": "markdown",
      "metadata": {
        "id": "view-in-github",
        "colab_type": "text"
      },
      "source": [
        "<a href=\"https://colab.research.google.com/github/Reben80/Data110-22016/blob/main/Week12.ipynb\" target=\"_parent\"><img src=\"https://colab.research.google.com/assets/colab-badge.svg\" alt=\"Open In Colab\"/></a>"
      ]
    },
    {
      "cell_type": "markdown",
      "source": [
        "### Importing Libraries\n",
        "This block imports essential Python libraries for data manipulation (`pandas`), geospatial data processing (`geopandas`), static plotting (`matplotlib`), and interactive plotting (`plotly.express`).\n"
      ],
      "metadata": {
        "id": "mIpQrpvvHPfn"
      }
    },
    {
      "cell_type": "code",
      "execution_count": null,
      "metadata": {
        "id": "bqI8q0coFOPv"
      },
      "outputs": [],
      "source": [
        "import pandas as pd\n",
        "import geopandas as gpd\n",
        "import matplotlib.pyplot as plt\n",
        "import plotly.express as px\n"
      ]
    },
    {
      "cell_type": "markdown",
      "source": [
        "### Loading Dataset\n",
        "This block loads a dataset of world countries from a CSV file hosted online and displays the first few rows to examine its structure.\n"
      ],
      "metadata": {
        "id": "Q-rWM8-XHR2Z"
      }
    },
    {
      "cell_type": "code",
      "source": [
        "world_countries_data = pd.read_csv('https://raw.githubusercontent.com/Reben80/Data110-22016/refs/heads/main/dataset/world_countries.csv')\n",
        "\n",
        "# Display the first few rows of the dataset to understand its structure\n",
        "world_countries_data.head()\n"
      ],
      "metadata": {
        "id": "gVY6Gi9vFbMS"
      },
      "execution_count": null,
      "outputs": []
    },
    {
      "cell_type": "markdown",
      "source": [
        "### Creating Choropleth Maps\n",
        "A choropleth map is a type of thematic map where regions are shaded or patterned in proportion to a statistical variable (e.g., GDP or population). This block processes the dataset to create two interactive maps using Plotly. The first map visualizes GDP by country, while the second highlights population distribution. Both maps use color intensity to represent data values, making it easy to identify trends and patterns geographically.\n"
      ],
      "metadata": {
        "id": "h-ilAAD7HklB"
      }
    },
    {
      "cell_type": "code",
      "source": [
        "\n",
        "# Simplify data for mapping\n",
        "mapping_data = world_countries_data.rename(columns={\"Country\": \"country\", \"GDP\": \"gdp\", \"Population\": \"population\"})\n",
        "\n",
        "# Create a choropleth map using Plotly\n",
        "fig = px.choropleth(\n",
        "    mapping_data,\n",
        "    locations=\"country\",\n",
        "    locationmode=\"country names\",\n",
        "    color=\"gdp\",\n",
        "    hover_name=\"country\",\n",
        "    title=\"Choropleth Map of GDP by Country\",\n",
        "    color_continuous_scale=px.colors.sequential.Viridis,\n",
        ")\n",
        "\n",
        "# Show the interactive map\n",
        "fig.show()\n",
        "\n",
        "\n",
        "# Create a choropleth map using Plotly\n",
        "fig = px.choropleth(\n",
        "    mapping_data,\n",
        "    locations=\"country\",\n",
        "    locationmode=\"country names\",\n",
        "    color=\"population\",\n",
        "    hover_name=\"country\",\n",
        "    title=\"Choropleth Map of GDP by Country\",\n",
        "    color_continuous_scale=px.colors.sequential.Viridis,\n",
        ")\n",
        "\n",
        "# Show the interactive map\n",
        "fig.show()\n"
      ],
      "metadata": {
        "id": "iVjkcPOEFkrU"
      },
      "execution_count": null,
      "outputs": []
    },
    {
      "source": [
        "\n",
        "\n",
        "# Load the data\n",
        "data = world_countries_data\n",
        "\n",
        "# Aggregate GDP by Region\n",
        "# The .index attribute is not callable. Access it directly instead.\n",
        "gdp_by_region = data.groupby('Region')['GDP'].sum().index\n",
        "\n",
        "# Reset the index to access 'Region' and 'GDP' as columns\n",
        "gdp_by_region = data.groupby('Region')['GDP'].sum().reset_index()\n",
        "\n",
        "\n",
        "# Plot the data\n",
        "plt.figure(figsize=(12, 6))\n",
        "# Use the 'Region' and 'GDP' columns for plotting\n",
        "plt.barh(gdp_by_region['Region'], gdp_by_region['GDP'], color='skyblue')\n",
        "plt.xticks(rotation=45, ha='right')\n",
        "plt.xlabel('Region')\n",
        "plt.ylabel('Total GDP')\n",
        "plt.title('Total GDP by Region')\n",
        "plt.tight_layout()\n",
        "plt.show()"
      ],
      "cell_type": "code",
      "metadata": {
        "id": "2yX6qhsIIXRh"
      },
      "execution_count": null,
      "outputs": []
    },
    {
      "cell_type": "markdown",
      "source": [
        "### Aggregating and Visualizing GDP by Region\n",
        "This block calculates the total GDP for each region by aggregating data and resetting the index for easier access. It then creates a horizontal bar chart using Matplotlib to visualize the total GDP by region, with clear labels and a rotated x-axis for better readability.\n"
      ],
      "metadata": {
        "id": "ZDPajg_jHram"
      }
    },
    {
      "cell_type": "code",
      "source": [
        "# Aggregate Population Density by Region\n",
        "density_by_region = data.groupby('Region')['Pop. Density'].mean().reset_index()\n",
        "\n",
        "# Plot the data\n",
        "plt.figure(figsize=(12, 6))\n",
        "plt.bar(density_by_region['Region'], density_by_region['Pop. Density'], color='coral')\n",
        "plt.xticks(rotation=45, ha='right')\n",
        "plt.xlabel('Region')\n",
        "plt.ylabel('Average Population Density')\n",
        "plt.title('Average Population Density by Region')\n",
        "plt.tight_layout()\n",
        "plt.show()\n"
      ],
      "metadata": {
        "id": "C8WcOYQVIzTG"
      },
      "execution_count": null,
      "outputs": []
    },
    {
      "cell_type": "code",
      "source": [
        "# Aggregate Population by Region\n",
        "population_by_region = data.groupby('Region')['Population'].sum().reset_index()\n",
        "\n",
        "# Plot the data as a pie chart\n",
        "plt.figure(figsize=(8, 8))\n",
        "plt.pie(population_by_region['Population'], labels=population_by_region['Region'], autopct='%1.1f%%', startangle=140)\n",
        "plt.title('Population Distribution by Region')\n",
        "plt.axis('equal')\n",
        "plt.show()\n"
      ],
      "metadata": {
        "id": "CLIAGIDOI5g8"
      },
      "execution_count": null,
      "outputs": []
    },
    {
      "cell_type": "markdown",
      "source": [
        "### Visualizing Population Distribution by Region\n",
        "Next, we aggregate the total population for each region and represent it as a pie chart. The chart displays the proportion of the population for each region, with percentage labels and an equal aspect ratio to maintain a circular shape.\n"
      ],
      "metadata": {
        "id": "_NZfT2m_H43t"
      }
    },
    {
      "cell_type": "code",
      "source": [
        "# Aggregate Population by Region\n",
        "population_by_region = world_countries_data.groupby('Region')['Population'].sum().reset_index()\n",
        "\n",
        "# Plot the data as a bar graph\n",
        "plt.figure(figsize=(12, 6))\n",
        "plt.bar(population_by_region['Region'], population_by_region['Population'], color='skyblue')\n",
        "plt.title('Population Distribution by Region', fontsize=16)\n",
        "plt.xlabel('Region', fontsize=12)\n",
        "plt.ylabel('Total Population', fontsize=12)\n",
        "plt.xticks(rotation=45, fontsize=10)\n",
        "plt.tight_layout()\n",
        "plt.show()\n"
      ],
      "metadata": {
        "id": "7ZKFnyFSI83m"
      },
      "execution_count": null,
      "outputs": []
    },
    {
      "cell_type": "markdown",
      "source": [
        "### Sorting and Visualizing Population by Region\n",
        "Here, we sort the regions by total population in ascending order and create a horizontal bar chart to compare population sizes across regions. The visualization includes labeled axes and a clean layout for easy interpretation.\n"
      ],
      "metadata": {
        "id": "j1M-17VBICuK"
      }
    },
    {
      "cell_type": "code",
      "source": [
        "#  Population by Region and sort by population in descending order\n",
        "population_by_region = population_by_region.sort_values(by='Population', ascending=True)  # Sort by Population in descending order\n",
        "\n",
        "# Plot the data as a bar graph\n",
        "plt.figure(figsize=(12, 6))\n",
        "plt.barh(population_by_region['Region'], population_by_region['Population'], color='skyblue')\n",
        "plt.title('Population Distribution by Region (Descending)', fontsize=16)\n",
        "plt.xlabel('Region', fontsize=12)\n",
        "plt.ylabel('Total Population', fontsize=12)\n",
        "plt.xticks(rotation=45, fontsize=10)\n",
        "plt.tight_layout()\n",
        "plt.show()\n"
      ],
      "metadata": {
        "id": "IkU_3h3dgYGy"
      },
      "execution_count": null,
      "outputs": []
    },
    {
      "cell_type": "markdown",
      "source": [
        "### Installing Required Library\n",
        "The `squarify` library is installed here to create treemaps. A treemap is a visualization technique that represents hierarchical data as nested rectangles. Each rectangle's size is proportional to a quantitative value, such as population or GDP, making it easy to compare contributions of different categories within a hierarchy.\n"
      ],
      "metadata": {
        "id": "hMj_hDUGIMW2"
      }
    },
    {
      "cell_type": "code",
      "source": [
        "!pip install squarify"
      ],
      "metadata": {
        "id": "bXCmBCVgJ1Hr"
      },
      "execution_count": null,
      "outputs": []
    },
    {
      "cell_type": "markdown",
      "source": [
        "### Visualizing Top Countries by Population with a Treemap\n",
        "This visualization highlights the 15 most populous countries using a treemap. Each rectangle represents a country, with its size proportional to the population (in millions). The labels include the country name and population, and the colors are customized for better differentiation. Treemaps are ideal for comparing contributions of different entities within a dataset.\n"
      ],
      "metadata": {
        "id": "C7QnXD7iIZVV"
      }
    },
    {
      "cell_type": "code",
      "source": [
        "import squarify\n",
        "import matplotlib.pyplot as plt\n",
        "\n",
        "# Prepare the data\n",
        "treemap_data = world_countries_data[['Country', 'Population']].dropna()\n",
        "treemap_data['Population'] = treemap_data['Population'] / 1e6  # Convert to millions\n",
        "treemap_data = treemap_data.nlargest(15, 'Population')  # Get top 10\n",
        "\n",
        "# Create nice colors\n",
        "colors = ['#1f77b4', '#ff7f0e', '#2ca02c', '#d62728', '#9467bd',\n",
        "          '#8c564b', '#e377c2', '#7f7f7f', '#bcbd22', '#17becf','#1f77b4', '#ff7f0e', '#2ca02c', '#d62728', '#9467bd']\n",
        "\n",
        "# Create the plot\n",
        "plt.figure(figsize=(12, 8))\n",
        "squarify.plot(\n",
        "    sizes=treemap_data['Population'],\n",
        "    label=[f\"{country}\\n{pop:,.1f}M\" for country, pop in  # Add commas to numbers\n",
        "           zip(treemap_data['Country'], treemap_data['Population'])],\n",
        "    color=colors,\n",
        "    alpha=0.9,\n",
        "    pad=False  # Add some space between rectangles\n",
        ")\n",
        "\n",
        "plt.title('Top 10 Countries by Population (Millions)', fontsize=14, pad=20)\n",
        "plt.axis('off')\n",
        "plt.tight_layout()\n",
        "plt.show()"
      ],
      "metadata": {
        "id": "LAmDCLGLKm3X"
      },
      "execution_count": null,
      "outputs": []
    },
    {
      "cell_type": "markdown",
      "source": [
        "### Treemap of Population Distribution by Region\n",
        "This treemap represents the population distribution across regions, with each rectangle's size proportional to the total population (in billions). The regions are sorted by population in descending order, and customized colors are applied for visual clarity. Labels on the rectangles display the region name and its corresponding population.\n"
      ],
      "metadata": {
        "id": "gOGTqAOOIhrJ"
      }
    },
    {
      "cell_type": "markdown",
      "source": [],
      "metadata": {
        "id": "1Aqm839rIasL"
      }
    },
    {
      "cell_type": "code",
      "source": [
        "\n",
        "\n",
        "\n",
        "# Prepare data\n",
        "population_by_region = world_countries_data.groupby('Region')['Population'].sum().reset_index()\n",
        "population_by_region = population_by_region.sort_values('Population', ascending=False)\n",
        "\n",
        "# Create nice colors for regions\n",
        "colors = ['#2ecc71', '#3498db', '#9b59b6', '#e74c3c', '#f1c40f', '#1abc9c']\n",
        "\n",
        "# Create the plot\n",
        "plt.figure(figsize=(12, 8))\n",
        "squarify.plot(\n",
        "    sizes=population_by_region['Population'] / 1e9,  # Convert to billions\n",
        "    label=[f\"{region}\\n{pop:.1f}B\" for region, pop in  # Add population in billions\n",
        "           zip(population_by_region['Region'], population_by_region['Population'] / 1e9)],\n",
        "    color=colors,\n",
        "    alpha=0.9,\n",
        "    pad=False  # Add some space between rectangles\n",
        ")\n",
        "\n",
        "plt.title('Population Distribution by Region (Billions)', fontsize=14, pad=20)\n",
        "plt.axis('off')\n",
        "plt.tight_layout()\n",
        "plt.show()"
      ],
      "metadata": {
        "id": "dtJaRmGRLWJ6"
      },
      "execution_count": null,
      "outputs": []
    },
    {
      "cell_type": "markdown",
      "source": [
        "### Visualizing World Population Flow with a Sankey Diagram\n",
        "This Sankey diagram represents the hierarchical flow of population, starting from the world level to continents and further breaking down into the top 5 most populous countries in each continent. While Python can create such visualizations, the process involves significant coding and data preparation, which may not always be practical for quick or simple tasks. For easier and faster creation of Sankey diagrams, tools like [SankeyMATIC](https://sankeymatic.com/build/) provide user-friendly interfaces and are well-suited for straightforward cases.\n"
      ],
      "metadata": {
        "id": "8esfjJxgI5x7"
      }
    },
    {
      "cell_type": "code",
      "source": [
        "import plotly.graph_objects as go\n",
        "import pandas as pd\n",
        "\n",
        "# Prepare data for visualization\n",
        "# Get top 5 countries per continent for cleaner visualization\n",
        "top_n = 5  # Number of countries to show per continent\n",
        "\n",
        "# Create hierarchical data\n",
        "df = world_countries_data.copy()\n",
        "total_population = df['Population'].sum()\n",
        "\n",
        "# Prepare Sankey data\n",
        "source = []  # Source indices\n",
        "target = []  # Target indices\n",
        "values = []  # Population values\n",
        "labels = ['World']  # Start with World\n",
        "\n",
        "# Add continents\n",
        "continents = df['Region'].unique()\n",
        "continent_dict = {continent: i+1 for i, continent in enumerate(continents)}\n",
        "labels.extend(continents)\n",
        "\n",
        "# World to continent flows\n",
        "for continent in continents:\n",
        "    source.append(0)  # World index\n",
        "    target.append(continent_dict[continent])\n",
        "    values.append(df[df['Region'] == continent]['Population'].sum())\n",
        "\n",
        "# Continent to country flows\n",
        "current_idx = len(continents) + 1\n",
        "for continent in continents:\n",
        "    # Get top N countries for this continent\n",
        "    top_countries = df[df['Region'] == continent].nlargest(top_n, 'Population')\n",
        "\n",
        "    for _, country_data in top_countries.iterrows():\n",
        "        source.append(continent_dict[continent])\n",
        "        target.append(current_idx)\n",
        "        values.append(country_data['Population'])\n",
        "        labels.append(f\"{country_data['Country']}\\n{country_data['Population']/1e6:.1f}M\")\n",
        "        current_idx += 1\n",
        "\n",
        "# Create color scheme\n",
        "node_colors = ['#2ecc71'] + \\\n",
        "              ['#3498db'] * len(continents) + \\\n",
        "              ['#e74c3c'] * (len(labels) - len(continents) - 1)\n",
        "\n",
        "# Create the Sankey diagram\n",
        "fig = go.Figure(data=[go.Sankey(\n",
        "    node = dict(\n",
        "        pad = 15,\n",
        "        thickness = 20,\n",
        "        line = dict(color = \"black\", width = 0.5),\n",
        "        label = labels,\n",
        "        color = node_colors\n",
        "    ),\n",
        "    link = dict(\n",
        "        source = source,\n",
        "        target = target,\n",
        "        value = values,\n",
        "        color = 'rgba(135, 206, 235, 0.4)'  # Light blue with transparency\n",
        "    )\n",
        ")])\n",
        "\n",
        "# Update layout\n",
        "fig.update_layout(\n",
        "    title=dict(\n",
        "        text=\"World Population Flow: World → Continents → Top 5 Countries per Continent\",\n",
        "        x=0.5,\n",
        "        y=0.95\n",
        "    ),\n",
        "    font_size=12,\n",
        "    height=800,\n",
        "    width=1200\n",
        ")\n",
        "\n",
        "fig.show()"
      ],
      "metadata": {
        "id": "gkE6JX5NMxdK"
      },
      "execution_count": null,
      "outputs": []
    },
    {
      "cell_type": "markdown",
      "source": [
        "### Exploring Population and GDP of Top U.S. States\n",
        "This section uses a sample dataset of the top 10 U.S. states by population and GDP. A bar chart visualizes the population of these states, with interactive features like color intensity and data labels for clarity. Additionally, a bubble chart displays the GDP of these states, where the size of each bubble represents the GDP value, offering a clear and engaging comparison. While these visualizations are insightful, creating them with Plotly requires coding, which might feel complex for users preferring a more visual, drag-and-drop tool.\n"
      ],
      "metadata": {
        "id": "lHKFPwVuJFYz"
      }
    },
    {
      "cell_type": "markdown",
      "source": [],
      "metadata": {
        "id": "qpETAsqpJFS8"
      }
    },
    {
      "cell_type": "code",
      "source": [
        "\n",
        "\n",
        "# Example data for U.S. states\n",
        "state_data = {\n",
        "    'State': ['California', 'Texas', 'Florida', 'New York', 'Pennsylvania', 'Illinois', 'Ohio', 'Georgia', 'North Carolina', 'Michigan'],\n",
        "    'Population': [39538223, 29145505, 21538187, 20201249, 13002700, 12812508, 11799448, 10711908, 10439388, 10077331],\n",
        "    'GDP (Billion $)': [3310, 1970, 1171, 1680, 846, 890, 683, 683, 666, 608]\n",
        "}\n",
        "\n",
        "# Convert the data to a DataFrame\n",
        "state_df = pd.DataFrame(state_data)\n",
        "\n",
        "# Create a bar chart for state populations\n",
        "fig_population = px.bar(\n",
        "    state_df,\n",
        "    x='State',\n",
        "    y='Population',\n",
        "    title='Population of Top 10 U.S. States',\n",
        "    labels={'Population': 'Population (in millions)', 'State': 'U.S. State'},\n",
        "    text_auto=True,\n",
        "    color='Population',\n",
        "    color_continuous_scale='Blues'\n",
        ")\n",
        "fig_population.show()\n",
        "\n",
        "# Create a bubble chart for state GDP\n",
        "fig_gdp = px.scatter(\n",
        "    state_df,\n",
        "    x='State',\n",
        "    y='GDP (Billion $)',\n",
        "    size='GDP (Billion $)',\n",
        "    color='State',\n",
        "    title='GDP of Top 10 U.S. States',\n",
        "    labels={'GDP (Billion $)': 'GDP (in Billion $)', 'State': 'U.S. State'},\n",
        "    size_max=60\n",
        ")\n",
        "fig_gdp.show()\n"
      ],
      "metadata": {
        "id": "EpGX3FLIU4tV"
      },
      "execution_count": null,
      "outputs": []
    },
    {
      "cell_type": "markdown",
      "source": [
        "### Loading U.S. States Population Dataset\n",
        "This step loads a dataset containing population data for U.S. states from a GitHub repository. The first few rows are displayed to provide an overview of the dataset's structure and content.\n"
      ],
      "metadata": {
        "id": "SfHO2BEEJHHW"
      }
    },
    {
      "cell_type": "code",
      "source": [
        "import pandas as pd\n",
        "import plotly.express as px\n",
        "\n",
        "# Load the dataset from the GitHub URL\n",
        "us_states_population = pd.read_csv('https://raw.githubusercontent.com/Reben80/Data110-22016/refs/heads/main/dataset/US_State_abbrev.csv')\n",
        "us_states_population.head()\n"
      ],
      "metadata": {
        "id": "uaA0qgq6YVpz"
      },
      "execution_count": null,
      "outputs": []
    },
    {
      "cell_type": "code",
      "source": [
        "us_states_population.info()"
      ],
      "metadata": {
        "id": "vP7Z--ySZnJb"
      },
      "execution_count": null,
      "outputs": []
    },
    {
      "cell_type": "markdown",
      "source": [
        "### Visualizing U.S. States Population with a Choropleth Map\n",
        "This choropleth map uses Plotly Express to depict the population of U.S. states in 2024. The state boundaries are defined by their abbreviations, and the population is represented with a vibrant Viridis color scale. The map focuses on the U.S. and provides an interactive way to explore population distribution across states.\n"
      ],
      "metadata": {
        "id": "24n4NGRAJSiS"
      }
    },
    {
      "cell_type": "code",
      "source": [
        "\n",
        "\n",
        "# Create the choropleth map using Plotly Express\n",
        "fig = px.choropleth(\n",
        "    us_states_population,                # DataFrame containing the data\n",
        "    locations='State Abbreviation',      # Column with state abbreviations for mapping\n",
        "    locationmode=\"USA-states\",           # Specifies the location mode to use U.S. states\n",
        "    color='Population 2024',             # Column to color states based on population\n",
        "    scope=\"usa\",                         # Restrict the map to the USA\n",
        "    color_continuous_scale=\"Viridis\",    # Set a vibrant Viridis color scale for the map\n",
        "    title=\"US States Population in 2024\",  # Title for the map visualization\n",
        "    labels={'Population 2024': 'Population'} # Customizes the colorbar label\n",
        ")\n",
        "\n",
        "# Display the map\n",
        "fig.show()\n",
        "\n"
      ],
      "metadata": {
        "id": "3frE0kv6ZMWi"
      },
      "execution_count": null,
      "outputs": []
    },
    {
      "cell_type": "markdown",
      "source": [
        "### Visualizing U.S. County Unemployment Rates\n",
        "This visualization creates a choropleth map to display unemployment rates across U.S. counties. The map uses a GeoJSON file for county boundaries and links it with unemployment data through FIPS codes. The color intensity represents the unemployment rate, with a Viridis color scale for clarity. This map provides an interactive overview of unemployment patterns across the country.\n"
      ],
      "metadata": {
        "id": "BleL7cB9JTVq"
      }
    },
    {
      "cell_type": "code",
      "source": [
        "from urllib.request import urlopen\n",
        "import json\n",
        "with urlopen('https://raw.githubusercontent.com/plotly/datasets/master/geojson-counties-fips.json') as response:\n",
        "    counties = json.load(response)\n",
        "\n",
        "import pandas as pd\n",
        "df = pd.read_csv(\"https://raw.githubusercontent.com/plotly/datasets/master/fips-unemp-16.csv\",\n",
        "                   dtype={\"fips\": str})\n",
        "\n",
        "import plotly.express as px\n",
        "\n",
        "fig = px.choropleth(df, geojson=counties, locations='fips', color='unemp',\n",
        "                           color_continuous_scale=\"Viridis\",\n",
        "                           range_color=(0, 12),\n",
        "                           scope=\"usa\",\n",
        "                           labels={'unemp':'unemployment rate'}\n",
        "                          )\n",
        "fig.update_layout(margin={\"r\":0,\"t\":0,\"l\":0,\"b\":0})\n",
        "fig.show()"
      ],
      "metadata": {
        "id": "pvkQIopYdy27"
      },
      "execution_count": null,
      "outputs": []
    },
    {
      "cell_type": "markdown",
      "source": [
        "### Visualizing Unemployment Rates in Maryland Counties\n",
        "This choropleth map highlights unemployment rates specifically for Maryland counties. The dataset is filtered using Maryland's state FIPS code (24), and the map focuses on the state's boundaries for clarity. A Viridis color scale represents the unemployment rates, making it easy to identify trends within Maryland. Interactive features enhance exploration of county-level data.\n"
      ],
      "metadata": {
        "id": "RLb0KCSvJZQy"
      }
    },
    {
      "cell_type": "code",
      "source": [
        "\n",
        "\n",
        "# Filter data to include only Maryland counties\n",
        "df_maryland = df[df['fips'].str.startswith('24')]  # Maryland's state FIPS code is 24\n",
        "\n",
        "# Create the choropleth map for Maryland\n",
        "fig = px.choropleth(\n",
        "    df_maryland,\n",
        "    geojson=counties,\n",
        "    locations='fips',\n",
        "    color='unemp',\n",
        "    color_continuous_scale=\"Viridis\",\n",
        "    range_color=(0, 12),\n",
        "    scope=\"usa\",\n",
        "    labels={'unemp': 'Unemployment Rate'}\n",
        ")\n",
        "\n",
        "# Focus the map on Maryland by limiting the GeoJSON to Maryland counties\n",
        "fig.update_geos(fitbounds=\"locations\", visible=False)\n",
        "\n",
        "# Adjust margins and display the map\n",
        "fig.update_layout(\n",
        "    margin={\"r\": 0, \"t\": 0, \"l\": 0, \"b\": 0},\n",
        "    title=\"Unemployment Rate in Maryland Counties\"\n",
        ")\n",
        "fig.show()\n"
      ],
      "metadata": {
        "id": "PCqJ3eQOs1yZ"
      },
      "execution_count": null,
      "outputs": []
    },
    {
      "cell_type": "markdown",
      "source": [
        "### Simple Choropleth Map for Selected U.S. States\n",
        "This map demonstrates a minimal example of a choropleth visualization, focusing on three U.S. states: Maryland (MD), California (CA), and Florida (FL). Each state is assigned a unique color based on arbitrary values, showcasing the ability to map data to specific states within the U.S.\n"
      ],
      "metadata": {
        "id": "X287WvNfJfOJ"
      }
    },
    {
      "cell_type": "code",
      "source": [
        "\n",
        "\n",
        "fig = px.choropleth(locations=[\"MD\", \"CA\", \"FL\"], locationmode=\"USA-states\", color=[1,2,3], scope=\"usa\")\n",
        "fig.show()"
      ],
      "metadata": {
        "id": "RMAtkE95eh-Q"
      },
      "execution_count": null,
      "outputs": []
    }
  ]
}