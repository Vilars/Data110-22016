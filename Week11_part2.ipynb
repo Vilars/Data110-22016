{
  "nbformat": 4,
  "nbformat_minor": 0,
  "metadata": {
    "colab": {
      "private_outputs": true,
      "provenance": [],
      "authorship_tag": "ABX9TyP9gAWrtnLgQ/ehsH+gAGAi",
      "include_colab_link": true
    },
    "kernelspec": {
      "name": "python3",
      "display_name": "Python 3"
    },
    "language_info": {
      "name": "python"
    }
  },
  "cells": [
    {
      "cell_type": "markdown",
      "metadata": {
        "id": "view-in-github",
        "colab_type": "text"
      },
      "source": [
        "<a href=\"https://colab.research.google.com/github/Reben80/Data110-22016/blob/main/Week11_part2.ipynb\" target=\"_parent\"><img src=\"https://colab.research.google.com/assets/colab-badge.svg\" alt=\"Open In Colab\"/></a>"
      ]
    },
    {
      "cell_type": "code",
      "execution_count": null,
      "metadata": {
        "id": "towjcCtVd3-S"
      },
      "outputs": [],
      "source": [
        "import matplotlib.pyplot as plt\n",
        "import pandas as pd\n",
        "import numpy as np\n",
        "from scipy.spatial import Voronoi, voronoi_plot_2d\n",
        "from sklearn.preprocessing import StandardScaler\n",
        "import folium\n",
        "from folium.plugins import HeatMap\n",
        "import seaborn as sns"
      ]
    },
    {
      "cell_type": "code",
      "source": [
        "df = pd.read_csv('/content/BPD_Arrests.csv')\n",
        "ds=pd.read_csv('/content/Liquor_Licenses_BC.csv')\n",
        "\n",
        "\n"
      ],
      "metadata": {
        "id": "M-s693sIeFAK"
      },
      "execution_count": null,
      "outputs": []
    },
    {
      "cell_type": "code",
      "source": [
        "df.head()"
      ],
      "metadata": {
        "id": "N8_BvB3Dep8L"
      },
      "execution_count": null,
      "outputs": []
    },
    {
      "cell_type": "code",
      "source": [
        "# Latitude\tLongitude\n",
        "ds.info()"
      ],
      "metadata": {
        "id": "hYfwK2zIeybO"
      },
      "execution_count": null,
      "outputs": []
    },
    {
      "cell_type": "code",
      "source": [
        "\n",
        "cleaned_df = df.dropna(subset=['Latitude', 'Longitude'])\n",
        "\n",
        "# Create a base map centered around Baltimore, Maryland\n",
        "map_center = [39.2904, -76.6122]  # Center of Baltimore\n",
        "m = folium.Map(location=map_center, zoom_start=11)\n",
        "\n",
        "#\n",
        "\n",
        "# Extract coordinates to a list of [LATITUDE, LONGITUDE] pairs for the heatmap\n",
        "#heat_data = cleaned_df[['Latitude', 'Longitude']].values.tolist()\n",
        "heat_data = cleaned_df[['Latitude', 'Longitude']].values\n",
        "# Add a HeatMap layer to the map\n",
        "HeatMap(heat_data).add_to(m)\n",
        "\n",
        "# Save the map to an HTML file to view\n",
        "map_path = \"arrest_heatmap_BD4.html\"\n",
        "m.save(map_path)\n",
        "\n",
        "# Display path for downloading\n",
        "map_path"
      ],
      "metadata": {
        "id": "1qkOk8EWe__0"
      },
      "execution_count": null,
      "outputs": []
    },
    {
      "cell_type": "code",
      "source": [
        "ds.head()"
      ],
      "metadata": {
        "id": "STgM2ni2i20P"
      },
      "execution_count": null,
      "outputs": []
    },
    {
      "cell_type": "code",
      "source": [
        "\n",
        "cleaned_df = df.dropna(subset=['LATITUDE', 'LONGITUDE'])\n",
        "\n",
        "# Create a base map centered around Baltimore, Maryland\n",
        "map_center = [39.2904, -76.6122]  # Center of Baltimore\n",
        "m = folium.Map(location=map_center, zoom_start=11)\n",
        "\n",
        "\n",
        "# Extract coordinates to a list of [LATITUDE, LONGITUDE] pairs for the heatmap\n",
        "heat_data = cleaned_df[['LATITUDE', 'LONGITUDE']].values.tolist()\n",
        "\n",
        "# Add a HeatMap layer to the map\n",
        "HeatMap(heat_data).add_to(m)\n",
        "\n",
        "# Save the map to an HTML file to view\n",
        "map_path = \"arrest_heatmap.html\"\n",
        "m.save(map_path)\n",
        "\n",
        "# Display path for downloading\n",
        "map_path"
      ],
      "metadata": {
        "id": "mIEHI5regU9-"
      },
      "execution_count": null,
      "outputs": []
    },
    {
      "cell_type": "code",
      "source": [
        "dt=pd.read_csv('/content/Crime_Incidents_DC_2024.csv')\n",
        "dr=pd.read_csv('/content/Liquor_Licenses_DC.csv')"
      ],
      "metadata": {
        "id": "zOQltGY7f9KG"
      },
      "execution_count": null,
      "outputs": []
    },
    {
      "cell_type": "code",
      "source": [
        "\n",
        "\n",
        "# Drop rows with missing latitude and longitude values\n",
        "DC_dt = dt.dropna(subset=['LATITUDE', 'LONGITUDE'])\n",
        "\n",
        "# Center map around Washington, DC\n",
        "map_center = [38.9072, -77.0369]  # Washington, DC\n",
        "m = folium.Map(location=map_center, zoom_start=11)\n",
        "\n",
        "# Prepare heatmap data as a list of [latitude, longitude] pairs\n",
        "heat_data = DC_dt[['LATITUDE', 'LONGITUDE']].values.tolist()\n",
        "\n",
        "# Add the heatmap layer to the map\n",
        "HeatMap(heat_data).add_to(m)\n",
        "\n",
        "# Save the map to an HTML file for viewing\n",
        "map_path = \"DC_crime_heatmap.html\"\n",
        "m.save(map_path)\n",
        "\n",
        "# Display path for downloading\n",
        "map_path\n"
      ],
      "metadata": {
        "id": "Q86B0vTTjcae"
      },
      "execution_count": null,
      "outputs": []
    },
    {
      "cell_type": "code",
      "source": [
        "\n",
        "# Drop rows with missing latitude and longitude values\n",
        "DC_liquor_df = dr.dropna(subset=['LATITUDE', 'LONGITUDE'])\n",
        "\n",
        "# Center map around Washington, DC\n",
        "map_center = [38.9072, -77.0369]  # Washington, DC\n",
        "m = folium.Map(location=map_center, zoom_start=11)\n",
        "\n",
        "# Prepare heatmap data as a list of [latitude, longitude] pairs\n",
        "heat_data = DC_liquor_df[['LATITUDE', 'LONGITUDE']].values.tolist()\n",
        "\n",
        "# Add the heatmap layer to the map\n",
        "HeatMap(heat_data).add_to(m)\n",
        "\n",
        "# Save the map to an HTML file for viewing\n",
        "map_path = \"DC_liquor_licenses_heatmap.html\"\n",
        "m.save(map_path)\n",
        "\n",
        "# Display path for downloading\n",
        "map_path\n"
      ],
      "metadata": {
        "id": "MBUxhGglkLw7"
      },
      "execution_count": null,
      "outputs": []
    },
    {
      "cell_type": "code",
      "source": [
        "\n",
        "# Step1: Data Cleaning\n",
        "# Drop rows with missing latitude and longitude values for each dataset\n",
        "DC_crime_df = dt.dropna(subset=['LATITUDE', 'LONGITUDE'])\n",
        "DC_liquor_dr = dr.dropna(subset=['LATITUDE', 'LONGITUDE'])\n",
        "\n",
        "\n",
        "# Step 2: Find Center\n",
        "# Center map around Washington, DC\n",
        "map_center = [38.9072, -77.0369]  # Washington, DC\n",
        "combined_map = folium.Map(location=map_center, zoom_start=11)\n",
        "\n",
        "# Prepare heatmap data as lists of [latitude, longitude] pairs for each layer\n",
        "#crime_heat_data = DC_crime_df[['LATITUDE', 'LONGITUDE']].values.tolist()\n",
        "#liquor_heat_data = DC_liquor_dr[['LATITUDE', 'LONGITUDE']].values.tolist()\n",
        "\n",
        "# Step 3: Prepair Coordinate (same as Vernoi)\n",
        "crime_heat_data = DC_crime_df[['LATITUDE', 'LONGITUDE']].values\n",
        "liquor_heat_data = DC_liquor_dr[['LATITUDE', 'LONGITUDE']].values\n",
        "\n",
        "# Step 4: Create Layer for all the different Maps you have\n",
        "# Create feature groups for each heatmap layer\n",
        "crime_layer = folium.FeatureGroup(name=\"Crime Heatmap\")\n",
        "liquor_layer = folium.FeatureGroup(name=\"Liquor Licenses Heatmap\")\n",
        "\n",
        "# STep 5: Put the Map the layer\n",
        "# Add heatmap layers to each feature group\n",
        "HeatMap(crime_heat_data).add_to(crime_layer)\n",
        "HeatMap(liquor_heat_data).add_to(liquor_layer)\n",
        "\n",
        "# Step 6: Add\n",
        "# Add the feature groups to the combined map\n",
        "crime_layer.add_to(combined_map)\n",
        "liquor_layer.add_to(combined_map)\n",
        "\n",
        "# Add layer control to toggle the layers on and off\n",
        "folium.LayerControl().add_to(combined_map)\n",
        "\n",
        "# Save the combined map to an HTML file for viewing\n",
        "combined_map_path = \"DC_combined_map_layers45.html\"\n",
        "combined_map.save(combined_map_path)\n",
        "\n",
        "# Display path for downloading\n",
        "combined_map_path\n",
        "\n",
        "\n"
      ],
      "metadata": {
        "id": "hGOJR1gemzyj"
      },
      "execution_count": null,
      "outputs": []
    }
  ]
}