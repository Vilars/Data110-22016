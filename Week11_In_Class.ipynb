{
  "nbformat": 4,
  "nbformat_minor": 0,
  "metadata": {
    "colab": {
      "private_outputs": true,
      "provenance": [],
      "authorship_tag": "ABX9TyNSKe0zOrVWZf7o1Ocso7ew",
      "include_colab_link": true
    },
    "kernelspec": {
      "name": "python3",
      "display_name": "Python 3"
    },
    "language_info": {
      "name": "python"
    }
  },
  "cells": [
    {
      "cell_type": "markdown",
      "metadata": {
        "id": "view-in-github",
        "colab_type": "text"
      },
      "source": [
        "<a href=\"https://colab.research.google.com/github/Reben80/Data110-22016/blob/main/Week11_In_Class.ipynb\" target=\"_parent\"><img src=\"https://colab.research.google.com/assets/colab-badge.svg\" alt=\"Open In Colab\"/></a>"
      ]
    },
    {
      "cell_type": "code",
      "execution_count": null,
      "metadata": {
        "id": "ujlYXLU0x53i"
      },
      "outputs": [],
      "source": [
        "import matplotlib.pyplot as plt\n",
        "import numpy as np\n",
        "import pandas as pd"
      ]
    },
    {
      "cell_type": "code",
      "source": [
        "pump_df=pd.read_csv('https://raw.githubusercontent.com/Reben80/Data110-22016/refs/heads/main/dataset/pumps.csv')\n",
        "\n",
        "death_df=pd.read_csv('https://raw.githubusercontent.com/Reben80/Data110-22016/refs/heads/main/dataset/deaths.csv')\n"
      ],
      "metadata": {
        "id": "BQOe_uKr0M0M"
      },
      "execution_count": null,
      "outputs": []
    },
    {
      "cell_type": "code",
      "source": [
        "pump_df.head()"
      ],
      "metadata": {
        "id": "HmRkTudV0zDE"
      },
      "execution_count": null,
      "outputs": []
    },
    {
      "cell_type": "code",
      "source": [
        "death_df.head(20)"
      ],
      "metadata": {
        "id": "zmNmKzFn01cK"
      },
      "execution_count": null,
      "outputs": []
    },
    {
      "cell_type": "code",
      "source": [
        "pump_df.sample(5)"
      ],
      "metadata": {
        "id": "b6_kBhrz08FH"
      },
      "execution_count": null,
      "outputs": []
    },
    {
      "cell_type": "code",
      "source": [
        "len(pump_df)"
      ],
      "metadata": {
        "id": "PuUOK0hJ1HGj"
      },
      "execution_count": null,
      "outputs": []
    },
    {
      "cell_type": "code",
      "source": [
        "len(death_df)"
      ],
      "metadata": {
        "id": "PG9a9ep11UaX"
      },
      "execution_count": null,
      "outputs": []
    },
    {
      "cell_type": "code",
      "source": [
        "shape(pump_df)"
      ],
      "metadata": {
        "id": "1wJHMQls1auy"
      },
      "execution_count": null,
      "outputs": []
    },
    {
      "cell_type": "code",
      "source": [
        "pump_df.shape"
      ],
      "metadata": {
        "id": "AfBEGI3V1i_q"
      },
      "execution_count": null,
      "outputs": []
    },
    {
      "cell_type": "code",
      "source": [
        "pump_df.info()"
      ],
      "metadata": {
        "id": "SdQtY0jF1t33"
      },
      "execution_count": null,
      "outputs": []
    },
    {
      "cell_type": "code",
      "source": [
        "pump_df.describe()"
      ],
      "metadata": {
        "id": "GFdX2yGd1xt2"
      },
      "execution_count": null,
      "outputs": []
    },
    {
      "cell_type": "code",
      "source": [
        "plt.scatter(death_df['X'],death_df['Y'])"
      ],
      "metadata": {
        "id": "vbcgn-j12qth"
      },
      "execution_count": null,
      "outputs": []
    },
    {
      "cell_type": "code",
      "source": [
        "death_df.plot(x='X',y='Y',kind='scatter',label='Deaths')"
      ],
      "metadata": {
        "id": "JJwcNEhf3F9R"
      },
      "execution_count": null,
      "outputs": []
    },
    {
      "cell_type": "code",
      "source": [
        "death_df.plot(x='X', y='Y', kind='scatter', label='Deaths', s=2, c='black')\n",
        "pump_df.plot(x='X', y='Y', kind='scatter', label='Pumps', s=30, c='red')"
      ],
      "metadata": {
        "id": "HYeMqZOT3i8u"
      },
      "execution_count": null,
      "outputs": []
    },
    {
      "cell_type": "code",
      "source": [
        "plt.figure(figsize=(15,10))\n",
        "plt.scatter(death_df['X'],death_df['Y'],label='Deaths')\n",
        "plt.scatter(pump_df['X'],pump_df['Y'],label='Pumps')\n",
        "plt.legend()\n",
        "plt.show()"
      ],
      "metadata": {
        "id": "3FSE1SEX4Lvu"
      },
      "execution_count": null,
      "outputs": []
    },
    {
      "cell_type": "code",
      "source": [
        "from scipy.spatial import Voronoi, voronoi_plot_2d"
      ],
      "metadata": {
        "id": "-vpQo1A15Ad6"
      },
      "execution_count": null,
      "outputs": []
    },
    {
      "cell_type": "code",
      "source": [
        "points=pump_df.values\n",
        "points"
      ],
      "metadata": {
        "id": "Otc5wqEp54pt"
      },
      "execution_count": null,
      "outputs": []
    },
    {
      "cell_type": "code",
      "source": [
        "vor = Voronoi(points)\n",
        "voronoi_plot_2d(vor,show_vertices=False)"
      ],
      "metadata": {
        "id": "KL26Y-Op6yTg"
      },
      "execution_count": null,
      "outputs": []
    },
    {
      "cell_type": "code",
      "source": [
        "vor = Voronoi(points)\n",
        "\n",
        "plt.figure(figsize=(15, 12))  # Create a figure with specified size\n",
        "voronoi_plot_2d(vor, show_vertices=False, line_colors='k', line_width=1, line_alpha=0.6)  # Plot Voronoi diagram\n",
        "plt.plot(death_df['X'], death_df['Y'], 'o', markersize=2, color='black', alpha=0.5, label='Deaths')  # Plot death locations\n",
        "plt.plot(pump_df['X'], pump_df['Y'], 'o', markersize=8, color='red', label='Pumps')  # Plot pump locations\n",
        "plt.title(\"Voronoi Diagram of Pump Locations with Deaths\")  # Add a title\n",
        "plt.xlabel(\"X\")  # Set x-axis label\n",
        "plt.ylabel(\"Y\")  # Set y-axis label\n",
        "plt.legend()  # Show legend\n",
        "plt.savefig('voronoi.png')\n",
        "plt.show()  # Display the plot"
      ],
      "metadata": {
        "id": "0KvFhX9k6XRx"
      },
      "execution_count": null,
      "outputs": []
    },
    {
      "cell_type": "code",
      "source": [
        "import folium\n",
        "from folium.plugins import HeatMap\n"
      ],
      "metadata": {
        "id": "_5KtOcsz-Zpb"
      },
      "execution_count": null,
      "outputs": []
    },
    {
      "cell_type": "code",
      "source": [
        "df = pd.read_csv('/content/BPD_Arrests.csv')\n",
        "ds=pd.read_csv('/content/Liquor_Licenses_BC.csv')"
      ],
      "metadata": {
        "id": "nMKYektv_I2i"
      },
      "execution_count": null,
      "outputs": []
    },
    {
      "cell_type": "code",
      "source": [
        "df.head()"
      ],
      "metadata": {
        "id": "sXkCs6p3_OkK"
      },
      "execution_count": null,
      "outputs": []
    },
    {
      "cell_type": "code",
      "source": [
        "df.info()"
      ],
      "metadata": {
        "id": "AxY4FrSm_bEJ"
      },
      "execution_count": null,
      "outputs": []
    },
    {
      "cell_type": "code",
      "source": [
        "cleaned_df = df.dropna(subset=['Latitude', 'Longitude'])"
      ],
      "metadata": {
        "id": "DmkC63VS_kUV"
      },
      "execution_count": null,
      "outputs": []
    },
    {
      "cell_type": "code",
      "source": [
        "cleaned_df.head()"
      ],
      "metadata": {
        "id": "xdAU2GzQ_2BM"
      },
      "execution_count": null,
      "outputs": []
    },
    {
      "cell_type": "code",
      "source": [
        "# Create a base map centered around Baltimore, Maryland\n",
        "map_center = [39.2904, -76.6122]  # Center of Baltimore\n",
        "m = folium.Map(location=map_center, zoom_start=11)\n",
        "heat_map=cleaned_df[['Latitude', 'Longitude']].values\n",
        "HeatMap(heat_map).add_to(m)\n",
        "map_path=\"arrest.html\"\n",
        "m.save(map_path)\n",
        "map_path"
      ],
      "metadata": {
        "id": "0aGUS6rDANkf"
      },
      "execution_count": null,
      "outputs": []
    },
    {
      "cell_type": "code",
      "source": [
        "ds.head()"
      ],
      "metadata": {
        "id": "jPDWBazoCo7M"
      },
      "execution_count": null,
      "outputs": []
    },
    {
      "cell_type": "markdown",
      "source": [
        "These Data taken from\n",
        "https://catalog.data.gov/dataset/bpd-arrests-b3b95"
      ],
      "metadata": {
        "id": "82CxMW49DLRp"
      }
    },
    {
      "cell_type": "code",
      "source": [
        "dt=pd.read_csv('/content/Crime_Incidents_DC_2024.csv')\n",
        "dr=pd.read_csv('/content/Liquor_Licenses_DC.csv')"
      ],
      "metadata": {
        "id": "HeZtVWfWDqRS"
      },
      "execution_count": null,
      "outputs": []
    },
    {
      "cell_type": "code",
      "source": [
        "# Step1: Data Cleaning\n",
        "# Drop rows with missing latitude and longitude values for each dataset\n",
        "DC_crime_df = dt.dropna(subset=['LATITUDE', 'LONGITUDE'])\n",
        "DC_liquor_dr = dr.dropna(subset=['LATITUDE', 'LONGITUDE'])"
      ],
      "metadata": {
        "id": "5d_4rAF4C6hA"
      },
      "execution_count": null,
      "outputs": []
    },
    {
      "cell_type": "code",
      "source": [
        "# Step 2: Find Center\n",
        "# Center map around Washington, DC\n",
        "map_center = [38.9072, -77.0369]  # Washington, DC\n",
        "combined_map = folium.Map(location=map_center, zoom_start=11)"
      ],
      "metadata": {
        "id": "pV904kVvDupq"
      },
      "execution_count": null,
      "outputs": []
    },
    {
      "cell_type": "code",
      "source": [
        "# Step 3: Prepair Coordinate (same as Vernoi)\n",
        "crime_heat_data = DC_crime_df[['LATITUDE', 'LONGITUDE']].values\n",
        "liquor_heat_data = DC_liquor_dr[['LATITUDE', 'LONGITUDE']].values"
      ],
      "metadata": {
        "id": "5A3Mc856D30f"
      },
      "execution_count": null,
      "outputs": []
    },
    {
      "cell_type": "code",
      "source": [
        "# Step 4: Create Layer for all the different Maps you have\n",
        "# Create feature groups for each heatmap layer\n",
        "crime_layer = folium.FeatureGroup(name=\"Crime Heatmap\")\n",
        "liquor_layer = folium.FeatureGroup(name=\"Liquor Licenses Heatmap\")"
      ],
      "metadata": {
        "id": "BCDW7DPREAIq"
      },
      "execution_count": null,
      "outputs": []
    },
    {
      "cell_type": "code",
      "source": [
        "# STep 5: Put the Map the layer\n",
        "# Add heatmap layers to each feature group\n",
        "HeatMap(crime_heat_data).add_to(crime_layer)\n",
        "HeatMap(liquor_heat_data).add_to(liquor_layer)"
      ],
      "metadata": {
        "id": "e2c55wlwEVxo"
      },
      "execution_count": null,
      "outputs": []
    },
    {
      "cell_type": "code",
      "source": [
        "# Step 6: Add\n",
        "# Add the feature groups to the combined map\n",
        "crime_layer.add_to(combined_map)\n",
        "liquor_layer.add_to(combined_map)"
      ],
      "metadata": {
        "id": "k73tjFlUEj_A"
      },
      "execution_count": null,
      "outputs": []
    },
    {
      "cell_type": "code",
      "source": [
        "# Add layer control to toggle the layers on and off\n",
        "folium.LayerControl().add_to(combined_map)\n",
        "\n",
        "# Save the combined map to an HTML file for viewing\n",
        "combined_map_path = \"DC_combined_map_layers55.html\"\n",
        "combined_map.save(combined_map_path)\n",
        "\n",
        "# Display path for downloading\n",
        "combined_map_path"
      ],
      "metadata": {
        "id": "BIanb4fjEqQl"
      },
      "execution_count": null,
      "outputs": []
    }
  ]
}